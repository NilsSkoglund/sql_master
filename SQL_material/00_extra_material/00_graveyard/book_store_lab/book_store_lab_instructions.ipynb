{
 "cells": [
  {
   "cell_type": "markdown",
   "metadata": {},
   "source": [
    "<img align=\"center\" src=\"https://iili.io/3wI8gI.png\" style=\"height:90px\" style=\"width:30px\"/>"
   ]
  },
  {
   "cell_type": "markdown",
   "metadata": {},
   "source": [
    "# Below is the  Schema for the pubs Database\n",
    "\n",
    "#### We strongly recommend that you spend some time studying the database and how the tables are connected\n",
    "\n",
    "![](https://relational.fit.cvut.cz/assets/img/datasets-generated/pubs.svg)\n",
    "\n",
    "\n",
    "## How does an author earn money?\n",
    "\n",
    " Your intuition may tell you that they earn money when they sell a book\n",
    "\n",
    "However, there are more layers to it: \n",
    "- Firstly, a recognized author may get an advance payment from there publishers before having written the book\n",
    "\n",
    "\n",
    "- Secondly, the author do not get all the money from the book sales. Authors normally get a royalty for every book sold, since there are cost associated with the production, distribution and storage of books. A royalty is a percentage of the book's sales price\n",
    "\n",
    "\n",
    "- Thirdly, if a book has been co-authored, the royalty is split between the authors. If the authors have contributed unevenly to the book, the royalty split will be uneven too. Keep this in mind when solving this lab challenge! "
   ]
  },
  {
   "cell_type": "markdown",
   "metadata": {},
   "source": [
    "## Lab Questions\n",
    "-- The difficult part of this lab is not writing the actual queries. The challenge here is to understand what information to use to get the desired output. \n",
    "\n",
    "-- 1. What authors Have Published What At What/Which Publisher?\n",
    "\n",
    "\n",
    "\n",
    "\n",
    "-- 2. Who Have Published How Many different Books At What/Which Publisher?\n",
    "\n",
    "\n",
    "\n",
    "\n",
    "-- 3. Write a Query that Gives us the Best Selling Authors and Rank them from high to low.\n",
    "\n",
    "\n",
    "\n",
    "\n",
    "-- 4. Calculate the royalties of each sales for each author and then save your result in a VIEW\n",
    "\n",
    "\n",
    "\n",
    "\n",
    "-- 5. Using the VIEW from the previous question, aggregate the total royalties for each title and then for each author. Then save the results to a temporary table.\n",
    "\n",
    "\n",
    "\n",
    "\n",
    "-- 6. Calculate the total profits of each author\n",
    "-- HINT: You will have to create a formula for calculating the profits.\n",
    "\n",
    "\n",
    "\n",
    "\n",
    "-- **Lab finished, good job**\n",
    "\n",
    "--- **BONUS QUESTION** --- \n",
    "\n",
    "-- Create a VIEW of the top three most most profitable authors\n",
    "\n",
    "\n",
    "\n"
   ]
  },
  {
   "cell_type": "code",
   "execution_count": null,
   "metadata": {},
   "outputs": [],
   "source": []
  }
 ],
 "metadata": {
  "kernelspec": {
   "display_name": "Python 3",
   "language": "python",
   "name": "python3"
  },
  "language_info": {
   "codemirror_mode": {
    "name": "ipython",
    "version": 3
   },
   "file_extension": ".py",
   "mimetype": "text/x-python",
   "name": "python",
   "nbconvert_exporter": "python",
   "pygments_lexer": "ipython3",
   "version": "3.8.3"
  },
  "toc": {
   "base_numbering": 1,
   "nav_menu": {},
   "number_sections": false,
   "sideBar": true,
   "skip_h1_title": false,
   "title_cell": "Table of Contents",
   "title_sidebar": "Contents",
   "toc_cell": false,
   "toc_position": {},
   "toc_section_display": true,
   "toc_window_display": false
  },
  "varInspector": {
   "cols": {
    "lenName": 16,
    "lenType": 16,
    "lenVar": 40
   },
   "kernels_config": {
    "python": {
     "delete_cmd_postfix": "",
     "delete_cmd_prefix": "del ",
     "library": "var_list.py",
     "varRefreshCmd": "print(var_dic_list())"
    },
    "r": {
     "delete_cmd_postfix": ") ",
     "delete_cmd_prefix": "rm(",
     "library": "var_list.r",
     "varRefreshCmd": "cat(var_dic_list()) "
    }
   },
   "types_to_exclude": [
    "module",
    "function",
    "builtin_function_or_method",
    "instance",
    "_Feature"
   ],
   "window_display": false
  }
 },
 "nbformat": 4,
 "nbformat_minor": 2
}
